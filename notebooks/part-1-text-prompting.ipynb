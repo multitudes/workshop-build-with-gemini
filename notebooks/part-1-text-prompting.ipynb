{
  "cells": [
    {
      "cell_type": "markdown",
      "metadata": {
        "id": "XSc7AU66mJSC"
      },
      "source": [
        "##### Copyright 2025 Patrick Loeber, Google LLC"
      ]
    },
    {
      "cell_type": "code",
      "execution_count": null,
      "metadata": {
        "cellView": "form",
        "id": "tc6tjo9vmJSE"
      },
      "outputs": [],
      "source": [
        "\n",
        "#@title Licensed under the Apache License, Version 2.0 (the \"License\");\n",
        "# you may not use this file except in compliance with the License.\n",
        "# You may obtain a copy of the License at\n",
        "#\n",
        "# https://www.apache.org/licenses/LICENSE-2.0\n",
        "#\n",
        "# Unless required by applicable law or agreed to in writing, software\n",
        "# distributed under the License is distributed on an \"AS IS\" BASIS,\n",
        "# WITHOUT WARRANTIES OR CONDITIONS OF ANY KIND, either express or implied.\n",
        "# See the License for the specific language governing permissions and\n",
        "# limitations under the License."
      ]
    },
    {
      "cell_type": "markdown",
      "metadata": {
        "id": "CuC_VSKMcEt6"
      },
      "source": [
        "# Workshop: Build with Gemini (Part 1)\n",
        "\n",
        "<a target=\"_blank\" href=\"https://colab.research.google.com/github/patrickloeber/workshop-build-with-gemini/blob/main/notebooks/part-1-text-prompting.ipynb\"><img src=\"https://colab.research.google.com/assets/colab-badge.svg\" alt=\"Open In Colab\"/></a>\n",
        "\n",
        "This workshop teaches how to build with Gemini using the Gemini API and Python SDK.\n",
        "\n",
        "Course outline:\n",
        "\n",
        "- **Part1 (this notebook): Quickstart + Text prompting**\n",
        "  - Text understanding\n",
        "  - Streaming response\n",
        "  - Chats\n",
        "  - System prompts\n",
        "  - Config options\n",
        "  - Long context\n",
        "  - Token usage\n",
        "  - Final excercise: Chat with book\n",
        "\n",
        "- **[Part 2: Multimodal understanding (image, video, audio, docs, code)](https://github.com/patrickloeber/workshop-build-with-gemini/blob/main/notebooks/part-2-multimodal-understanding.ipynb)**\n",
        "\n",
        "- **[Part 3: Thinking models + agentic capabilities (tool usage)](https://github.com/patrickloeber/workshop-build-with-gemini/blob/main/notebooks/part-3-thinking-and-tools.ipynb)**"
      ]
    },
    {
      "cell_type": "markdown",
      "metadata": {
        "id": "avRVsnMMJvof"
      },
      "source": [
        "## 0. Use the Google AI Studio as playground\n",
        "\n",
        "Explore and play with all models in the [Google AI Studio](https://aistudio.google.com/apikey).\n"
      ]
    },
    {
      "cell_type": "markdown",
      "metadata": {
        "id": "jnl6q8tMcpwU"
      },
      "source": [
        "## 1. Setup\n"
      ]
    },
    {
      "cell_type": "markdown",
      "metadata": {
        "id": "DD1kaBP4dnZG"
      },
      "source": [
        "Get a free API key in the [Google AI Studio](https://aistudio.google.com/apikey)"
      ]
    },
    {
      "cell_type": "code",
      "source": [],
      "metadata": {
        "id": "YyvZLLYz0hDO"
      },
      "execution_count": null,
      "outputs": []
    },
    {
      "cell_type": "code",
      "execution_count": 4,
      "metadata": {
        "id": "j6raUs82eYfk"
      },
      "outputs": [],
      "source": [
        "from google.colab import userdata\n",
        "\n",
        "GOOGLE_API_KEY = userdata.get('GOOGLE_API_KEY')"
      ]
    },
    {
      "cell_type": "markdown",
      "source": [],
      "metadata": {
        "id": "tZHQVbwhzHWK"
      }
    },
    {
      "cell_type": "markdown",
      "metadata": {
        "id": "yKjUEGGzdp87"
      },
      "source": [
        "Install the [Google Gen AI Python SDK](https://github.com/googleapis/python-genai)"
      ]
    },
    {
      "cell_type": "code",
      "execution_count": 5,
      "metadata": {
        "id": "Y4d9NjqNeAXx"
      },
      "outputs": [],
      "source": [
        "%pip install -q -U google-genai\n"
      ]
    },
    {
      "cell_type": "markdown",
      "metadata": {
        "id": "d6b7d1FleDuz"
      },
      "source": [
        "Configure Client"
      ]
    },
    {
      "cell_type": "code",
      "execution_count": 6,
      "metadata": {
        "id": "o6Uort3heUqT"
      },
      "outputs": [],
      "source": [
        "from google import genai\n",
        "from google.genai import types\n",
        "\n",
        "client = genai.Client(api_key=GOOGLE_API_KEY)"
      ]
    },
    {
      "cell_type": "markdown",
      "metadata": {
        "id": "1P2KmoPSgRxO"
      },
      "source": [
        "Configure model. See all [models](https://ai.google.dev/gemini-api/docs/models)"
      ]
    },
    {
      "cell_type": "code",
      "execution_count": 9,
      "metadata": {
        "id": "0qcgiiP7gO-6"
      },
      "outputs": [],
      "source": [
        "MODEL = \"gemini-1.5-flash\"  # TODO: add model name,\n",
        "# info: you'll find the solutions in the `solutions` folder"
      ]
    },
    {
      "cell_type": "markdown",
      "metadata": {
        "id": "LLsGbeGec8iF"
      },
      "source": [
        "## 2. Send your first prompt"
      ]
    },
    {
      "cell_type": "code",
      "execution_count": 13,
      "metadata": {
        "id": "e57RFdZ6dRro",
        "collapsed": true,
        "outputId": "23139404-a1c2-4dae-8134-2dbe738d94d2",
        "colab": {
          "base_uri": "https://localhost:8080/"
        }
      },
      "outputs": [
        {
          "output_type": "stream",
          "name": "stdout",
          "text": [
            "Python list comprehensions provide a concise way to create lists. They're essentially a shorthand for a `for` loop combined with an optional conditional statement, all packed into a single line of code.  This makes your code more readable and often more efficient than using traditional loops.\n",
            "\n",
            "**Basic Structure:**\n",
            "\n",
            "The general structure of a list comprehension is:\n",
            "\n",
            "```python\n",
            "new_list = [expression for item in iterable if condition]\n",
            "```\n",
            "\n",
            "Let's break down each part:\n",
            "\n",
            "* **`expression`:** This is what will be added to the new list for each item.  It can be a simple variable, a calculation based on the item, or a function call.\n",
            "\n",
            "* **`item`:**  A variable representing each element in the `iterable`.\n",
            "\n",
            "* **`iterable`:** This could be a list, tuple, string, range, or any other object that can be iterated over.\n",
            "\n",
            "* **`if condition` (optional):**  A conditional statement that filters the items. Only items satisfying the condition will be included in the new list.\n",
            "\n",
            "\n",
            "**Examples:**\n",
            "\n",
            "1. **Squaring numbers:**\n",
            "\n",
            "   Let's say you want to create a list of the squares of numbers from 0 to 9.  Using a traditional loop:\n",
            "\n",
            "   ```python\n",
            "   squares = []\n",
            "   for x in range(10):\n",
            "       squares.append(x**2)\n",
            "   print(squares)  # Output: [0, 1, 4, 9, 16, 25, 36, 49, 64, 81]\n",
            "   ```\n",
            "\n",
            "   The equivalent list comprehension:\n",
            "\n",
            "   ```python\n",
            "   squares = [x**2 for x in range(10)]\n",
            "   print(squares)  # Output: [0, 1, 4, 9, 16, 25, 36, 49, 64, 81]\n",
            "   ```\n",
            "\n",
            "2. **Filtering a list:**\n",
            "\n",
            "   Suppose you have a list of numbers and you only want to keep the even ones:\n",
            "\n",
            "   ```python\n",
            "   numbers = [1, 2, 3, 4, 5, 6, 7, 8, 9, 10]\n",
            "   even_numbers = [x for x in numbers if x % 2 == 0]\n",
            "   print(even_numbers)  # Output: [2, 4, 6, 8, 10]\n",
            "   ```\n",
            "\n",
            "3. **String manipulation:**\n",
            "\n",
            "   You can use list comprehensions to create a list of uppercase versions of strings:\n",
            "\n",
            "   ```python\n",
            "   words = [\"hello\", \"world\", \"python\"]\n",
            "   uppercase_words = [word.upper() for word in words]\n",
            "   print(uppercase_words)  # Output: ['HELLO', 'WORLD', 'PYTHON']\n",
            "   ```\n",
            "\n",
            "4. **Nested loops (more complex):**\n",
            "\n",
            "   List comprehensions can even handle nested loops, though they can become less readable if overly complex.  For example, creating a multiplication table:\n",
            "\n",
            "   ```python\n",
            "   table = [[x * y for x in range(1, 11)] for y in range(1, 11)]\n",
            "   print(table) #Output: a 10x10 multiplication table\n",
            "   ```\n",
            "\n",
            "\n",
            "**When to use them:**\n",
            "\n",
            "List comprehensions are great for concisely creating lists when:\n",
            "\n",
            "* The logic is relatively simple (avoid overly complex expressions or conditions).\n",
            "* Readability is improved (a well-written comprehension is often clearer than a multi-line loop).\n",
            "* Performance can be slightly better (though the difference is often negligible for small lists).\n",
            "\n",
            "\n",
            "**When *not* to use them:**\n",
            "\n",
            "Avoid list comprehensions if:\n",
            "\n",
            "* The logic is too complex and makes the comprehension hard to understand.\n",
            "* Side effects are involved within the expression (e.g., modifying external variables).  In such cases, explicit loops are often better for clarity.\n",
            "* You need to handle exceptions within the iteration.  `try-except` blocks don't fit nicely into list comprehensions.\n",
            "\n",
            "In summary, list comprehensions are a powerful tool for creating lists in Python, but use them judiciously to maintain readability and avoid overly complex expressions.\n",
            "\n"
          ]
        }
      ],
      "source": [
        "# TODO: send your first prompt and print it\n",
        "response = client.models.generate_content (\n",
        "    model = MODEL, contents = \"Explain python list comprehensions\"\n",
        ")\n",
        "print(response.text)"
      ]
    },
    {
      "cell_type": "markdown",
      "metadata": {
        "id": "-rfjqevtmRBO"
      },
      "source": [
        "#### **!! Exercise !!**\n",
        "- Send a few more prompts\n",
        "  - Tell Gemini to write a blog post about the transformers architecture\n",
        "  - Ask Gemini to explain list comprehension in Python\n",
        "- Experiment with models:\n",
        "  - Try Gemini 2.0 Flash-Lite\n",
        "  - Try Gemini 2.5 Pro Exp"
      ]
    },
    {
      "cell_type": "code",
      "execution_count": 16,
      "metadata": {
        "id": "l4Zj8kiIoRqn",
        "collapsed": true,
        "outputId": "48fe90fb-0018-41a3-ddef-74f998e95559",
        "colab": {
          "base_uri": "https://localhost:8080/"
        }
      },
      "outputs": [
        {
          "output_type": "stream",
          "name": "stdout",
          "text": [
            "## Python List Comprehensions Explained\n",
            "\n",
            "List comprehensions in Python provide a concise and elegant way to create new lists based on existing iterables (like lists, tuples, strings, ranges, etc.). They offer a more compact and often faster alternative to traditional `for` loops when constructing lists.\n",
            "\n",
            "**What they do:**\n",
            "\n",
            "At their core, list comprehensions allow you to:\n",
            "\n",
            "1.  **Iterate:**  Go through each item in an iterable.\n",
            "2.  **Transform (optional):** Apply an operation or transformation to each item.\n",
            "3.  **Filter (optional):** Include only items that meet a certain condition.\n",
            "\n",
            "**Basic Syntax:**\n",
            "\n",
            "```python\n",
            "new_list = [expression for item in iterable if condition]\n",
            "```\n",
            "\n",
            "Let's break down the components:\n",
            "\n",
            "*   **`new_list`:** The name of the new list you're creating.\n",
            "*   **`expression`:**  This is what you want to do with each `item`. It could be a simple value, a calculation, a function call, or anything that evaluates to a value.\n",
            "*   **`for item in iterable`:** This is the loop part.  `item` is a variable that represents the current element in the `iterable`. The `iterable` is the sequence you're iterating over (e.g., a list, tuple, string, range).\n",
            "*   **`if condition` (optional):**  This is a conditional filter. Only items that satisfy the `condition` (evaluates to `True`) will be included in the `new_list`.\n",
            "\n",
            "**Examples to Illustrate:**\n",
            "\n",
            "1.  **Creating a list of squares:**\n",
            "\n",
            "    ```python\n",
            "    numbers = [1, 2, 3, 4, 5]\n",
            "    squares = [number**2 for number in numbers]  # [1, 4, 9, 16, 25]\n",
            "    print(squares)\n",
            "    ```\n",
            "\n",
            "    *   We iterate through the `numbers` list.\n",
            "    *   For each `number`, we calculate its square (`number**2`).\n",
            "    *   The resulting squares are collected into the `squares` list.\n",
            "\n",
            "2.  **Creating a list of even numbers:**\n",
            "\n",
            "    ```python\n",
            "    numbers = [1, 2, 3, 4, 5, 6]\n",
            "    even_numbers = [number for number in numbers if number % 2 == 0]  # [2, 4, 6]\n",
            "    print(even_numbers)\n",
            "    ```\n",
            "\n",
            "    *   We iterate through the `numbers` list.\n",
            "    *   The `if` condition (`number % 2 == 0`) filters for even numbers (numbers divisible by 2).\n",
            "    *   Only even numbers are included in the `even_numbers` list.\n",
            "\n",
            "3.  **Transforming strings:**\n",
            "\n",
            "    ```python\n",
            "    words = [\"hello\", \"world\", \"python\"]\n",
            "    uppercase_words = [word.upper() for word in words]  # ['HELLO', 'WORLD', 'PYTHON']\n",
            "    print(uppercase_words)\n",
            "    ```\n",
            "\n",
            "    *   We iterate through the `words` list.\n",
            "    *   For each `word`, we convert it to uppercase (`word.upper()`).\n",
            "    *   The uppercase words are collected into the `uppercase_words` list.\n",
            "\n",
            "4.  **Combining transformation and filtering:**\n",
            "\n",
            "    ```python\n",
            "    numbers = [1, 2, 3, 4, 5, 6, 7, 8]\n",
            "    even_squares = [number**2 for number in numbers if number % 2 == 0]  # [4, 16, 36, 64]\n",
            "    print(even_squares)\n",
            "    ```\n",
            "\n",
            "    *   We iterate through the `numbers` list.\n",
            "    *   The `if` condition filters for even numbers.\n",
            "    *   Only the squares of even numbers are calculated and included in `even_squares`.\n",
            "\n",
            "5.  **Nested List Comprehensions (for creating matrices or doing operations on multiple iterables):**\n",
            "\n",
            "    ```python\n",
            "    matrix = [[1, 2, 3], [4, 5, 6], [7, 8, 9]]\n",
            "    flattened_matrix = [element for row in matrix for element in row]  # [1, 2, 3, 4, 5, 6, 7, 8, 9]\n",
            "    print(flattened_matrix)\n",
            "\n",
            "    # Equivalent with nested loops:\n",
            "    # flattened_matrix = []\n",
            "    # for row in matrix:\n",
            "    #   for element in row:\n",
            "    #     flattened_matrix.append(element)\n",
            "    ```\n",
            "\n",
            "    *   This example flattens a 2D list (matrix) into a 1D list.\n",
            "    *   The outer `for` loop iterates through the rows.\n",
            "    *   The inner `for` loop iterates through the elements of each row.\n",
            "    *   Each element is then added to the `flattened_matrix`.\n",
            "\n",
            "**Benefits of Using List Comprehensions:**\n",
            "\n",
            "*   **Conciseness:**  They offer a more compact way to write code, often making it more readable.\n",
            "*   **Readability:**  When used effectively, they can make your code easier to understand.\n",
            "*   **Efficiency:** In many cases, list comprehensions are faster than equivalent `for` loops, especially for simple operations.  (This is due to the way Python's interpreter handles them).\n",
            "*   **Functional Programming Style:** They encourage a more functional approach, avoiding explicit loop counters and mutable state.\n",
            "\n",
            "**When to Use List Comprehensions:**\n",
            "\n",
            "*   When you need to create a new list from an existing iterable.\n",
            "*   When the logic for creating the new list is relatively simple.\n",
            "*   When you want to improve code readability and conciseness.\n",
            "\n",
            "**When to Avoid List Comprehensions:**\n",
            "\n",
            "*   When the logic for creating the new list is very complex and would make the list comprehension difficult to read. In such cases, a regular `for` loop might be clearer.\n",
            "*   When you need to perform side effects (e.g., modify variables outside the list comprehension's scope) heavily. List comprehensions are best used for purely functional transformations.\n",
            "*   When your code requires a `break` or `continue` statement inside the loop, as these are not directly supported within the list comprehension syntax.\n",
            "\n",
            "**In summary:**\n",
            "\n",
            "List comprehensions are a powerful and Pythonic feature that allows you to create lists in a concise and efficient manner.  They are a fundamental part of Python programming and a valuable tool for any Python developer.  Use them when they improve code readability and efficiency for list creation tasks. However, don't hesitate to use traditional `for` loops when the logic becomes overly complex.\n",
            "\n"
          ]
        }
      ],
      "source": [
        "# TODO: complete exercise\n",
        "MODEL = \"gemini-2.0-flash-lite\"\n",
        "response = client.models.generate_content (\n",
        "    model = MODEL, contents = \"Explain python list comprehensions\"\n",
        ")\n",
        "print(response.text)\n"
      ]
    },
    {
      "cell_type": "code",
      "source": [
        "response = client.models.generate_content(\n",
        "    model=\"gemini-2.0-flash\",\n",
        "    config=types.GenerateContentConfig(\n",
        "        system_instruction=\"You are a cat. Your name is Neko.\"),\n",
        "    contents=\"Hello there\"\n",
        ")\n",
        "\n",
        "print(response.text)"
      ],
      "metadata": {
        "id": "Nvugo7TZ4xPW",
        "outputId": "f85fda0c-f058-44ca-ad4b-0d89bcb4fe45",
        "colab": {
          "base_uri": "https://localhost:8080/"
        }
      },
      "execution_count": 25,
      "outputs": [
        {
          "output_type": "stream",
          "name": "stdout",
          "text": [
            "Mrow! Hello hooman. Neko am pleased you are here. Do you have treats? Or maybe a nice sunny spot for a nap? *purrs softly*\n",
            "\n"
          ]
        }
      ]
    },
    {
      "cell_type": "markdown",
      "metadata": {
        "id": "vHqnTYJFdSlG"
      },
      "source": [
        "## 3. Text understanding"
      ]
    },
    {
      "cell_type": "markdown",
      "metadata": {
        "id": "WHRVaK0-tCE_"
      },
      "source": [
        "The simplest way to generate text is to provide the model with a text-only prompt. `contents` can be a single prompt, a list of prompts, or a combination of multimodal inputs."
      ]
    },
    {
      "cell_type": "markdown",
      "source": [],
      "metadata": {
        "id": "CF1xRtkE2nkK"
      }
    },
    {
      "cell_type": "code",
      "execution_count": 24,
      "metadata": {
        "id": "A_HqjSiFsUQ2",
        "outputId": "506d989f-14b5-4c0e-8474-01696e927cc2",
        "colab": {
          "base_uri": "https://localhost:8080/",
          "height": 190
        }
      },
      "outputs": [
        {
          "output_type": "error",
          "ename": "AttributeError",
          "evalue": "module 'google.genai' has no attribute 'GenerativeModel'",
          "traceback": [
            "\u001b[0;31m---------------------------------------------------------------------------\u001b[0m",
            "\u001b[0;31mAttributeError\u001b[0m                            Traceback (most recent call last)",
            "\u001b[0;32m<ipython-input-24-5c80d247e66e>\u001b[0m in \u001b[0;36m<cell line: 0>\u001b[0;34m()\u001b[0m\n\u001b[1;32m      1\u001b[0m \u001b[0;31m# TODO: send a prompt and provide multiple strings in `contents`\u001b[0m\u001b[0;34m\u001b[0m\u001b[0;34m\u001b[0m\u001b[0m\n\u001b[0;32m----> 2\u001b[0;31m \u001b[0mmodel\u001b[0m \u001b[0;34m=\u001b[0m \u001b[0mgenai\u001b[0m\u001b[0;34m.\u001b[0m\u001b[0mGenerativeModel\u001b[0m\u001b[0;34m(\u001b[0m\u001b[0mMODEL\u001b[0m\u001b[0;34m)\u001b[0m\u001b[0;34m\u001b[0m\u001b[0;34m\u001b[0m\u001b[0m\n\u001b[0m\u001b[1;32m      3\u001b[0m \u001b[0mresponse\u001b[0m \u001b[0;34m=\u001b[0m \u001b[0mmodel\u001b[0m\u001b[0;34m.\u001b[0m\u001b[0mgenerate_content\u001b[0m\u001b[0;34m(\u001b[0m\u001b[0;34m\"I am a software dev in c - i would like pointers explained\"\u001b[0m\u001b[0;34m)\u001b[0m\u001b[0;34m\u001b[0m\u001b[0;34m\u001b[0m\u001b[0m\n\u001b[1;32m      4\u001b[0m \u001b[0mprint\u001b[0m\u001b[0;34m(\u001b[0m\u001b[0mresponse\u001b[0m\u001b[0;34m.\u001b[0m\u001b[0mtext\u001b[0m\u001b[0;34m)\u001b[0m\u001b[0;34m\u001b[0m\u001b[0;34m\u001b[0m\u001b[0m\n",
            "\u001b[0;31mAttributeError\u001b[0m: module 'google.genai' has no attribute 'GenerativeModel'"
          ]
        }
      ],
      "source": [
        "# TODO: send a prompt and provide multiple strings in `contents`\n",
        "model = genai.GenerativeModel(MODEL)\n",
        "response = model.generate_content(\"I am a software dev in c - i would like pointers explained\")\n",
        "print(response.text)"
      ]
    },
    {
      "cell_type": "markdown",
      "metadata": {
        "id": "itCzXz1BiG5g"
      },
      "source": [
        "#### Streaming response\n",
        "\n",
        "By default, the model returns a response after completing the entire text generation process. You can achieve faster interactions by using streaming to return outputs as they're generated."
      ]
    },
    {
      "cell_type": "code",
      "execution_count": null,
      "metadata": {
        "id": "7d6HzwfZdWbt"
      },
      "outputs": [],
      "source": [
        "# TODO: generate a streaming response"
      ]
    },
    {
      "cell_type": "markdown",
      "metadata": {
        "id": "LZjfCkzSdcEc"
      },
      "source": [
        "#### Chat\n",
        "\n",
        "The SDK chat class provides an interface to keep track of conversation history. Behind the scenes it uses the same `generate_content` method."
      ]
    },
    {
      "cell_type": "code",
      "execution_count": null,
      "metadata": {
        "id": "BCI8O9Ldjn6q"
      },
      "outputs": [],
      "source": [
        "# TODO: create a chat"
      ]
    },
    {
      "cell_type": "code",
      "execution_count": null,
      "metadata": {
        "id": "mmfMuI44Kev2"
      },
      "outputs": [],
      "source": [
        "# TODO: send messages"
      ]
    },
    {
      "cell_type": "markdown",
      "metadata": {
        "id": "E_MkOG6uLs75"
      },
      "source": [
        "#### Parameters\n",
        "\n",
        "Every prompt you send to the model includes parameters that control how the model generates responses. You can configure these parameters, or let the model use the default options."
      ]
    },
    {
      "cell_type": "code",
      "execution_count": null,
      "metadata": {
        "id": "J_jk93Z-Lum-"
      },
      "outputs": [],
      "source": [
        "# TODO: send a prompt using the parameters below"
      ]
    },
    {
      "cell_type": "markdown",
      "metadata": {
        "id": "DPyrJ9ul7yuv"
      },
      "source": [
        "- `max_output_tokens`: Sets the maximum number of tokens to include in a candidate.\n",
        "- `temperature`: Controls the randomness of the output. Use higher values for more creative responses, and lower values for more deterministic responses. Values can range from [0.0, 2.0].\n",
        "- `top_p`: Changes how the model selects tokens for output. Tokens are selected from the most to least probable until the sum of their probabilities equals the top_p value.\n",
        "- `top_k`: Changes how the model selects tokens for output. A top_k of 1 means the selected token is the most probable among all the tokens in the model's vocabulary, while a top_k of 3 means that the next token is selected from among the 3 most probable using the temperature. Tokens are further filtered based on top_p with the final token selected using temperature sampling.\n",
        "- `stop_sequences`: List of strings  (up to 5) that tells the model to stop generating text if one of the strings is encountered in the response. If specified, the API will stop at the first appearance of a stop sequence.\n",
        "- `seed`: If specified, the model makes a best effort to provide the same response for repeated requests. By default, a random number is used."
      ]
    },
    {
      "cell_type": "markdown",
      "metadata": {
        "id": "sG9JgfKF8nvr"
      },
      "source": [
        "#### System instructions\n",
        "\n",
        "System instructions let you steer the behavior of a model based on your specific use case. When you provide system instructions, you give the model additional context to help it understand the task and generate more customized responses. The model should adhere to the system instructions over the full interaction with the user, enabling you to specify product-level behavior separate from the prompts provided by end users."
      ]
    },
    {
      "cell_type": "code",
      "execution_count": null,
      "metadata": {
        "id": "CayVOonC8st5"
      },
      "outputs": [],
      "source": [
        "# TODO: send a prompt with a system instruction"
      ]
    },
    {
      "cell_type": "markdown",
      "metadata": {
        "id": "kjdRzLbN-ANo"
      },
      "source": [
        "#### Long context and token counting\n",
        "\n",
        "Gemini 2.0 Flash and 2.5 Pro have a 1M token context window.\n",
        "\n",
        "In practice, 1 million tokens could look like:\n",
        "\n",
        "- 50,000 lines of code (with the standard 80 characters per line)\n",
        "- All the text messages you have sent in the last 5 years\n",
        "- 8 average length English novels\n",
        "- 1 hour of video data\n",
        "\n",
        "Let's feed in an entire book and ask questions:\n",
        "\n"
      ]
    },
    {
      "cell_type": "code",
      "execution_count": null,
      "metadata": {
        "id": "b6pGhOkj-CFS"
      },
      "outputs": [],
      "source": [
        "import requests\n",
        "res = requests.get(\"https://gutenberg.org/cache/epub/16317/pg16317.txt\")\n",
        "book = res.text"
      ]
    },
    {
      "cell_type": "code",
      "execution_count": null,
      "metadata": {
        "id": "C0nnKaKC-NMu"
      },
      "outputs": [],
      "source": [
        "print(book[:100])"
      ]
    },
    {
      "cell_type": "code",
      "execution_count": null,
      "metadata": {
        "id": "Ves9N2m-_k-V"
      },
      "outputs": [],
      "source": [
        "print(f\"# charakters {len(book)}\")\n",
        "print(f\"# words {len(book.split())}\")\n",
        "print(f\"# tokens: ~{int(len(book.split()) * 4/3)}\")   # rule of thumb: 100tokens=75words"
      ]
    },
    {
      "cell_type": "code",
      "execution_count": null,
      "metadata": {
        "id": "6hmtD77wMXdF"
      },
      "outputs": [],
      "source": [
        "# TODO: send a prompt to summarize the book"
      ]
    },
    {
      "cell_type": "markdown",
      "metadata": {
        "id": "jt9NUCaexPqy"
      },
      "source": [
        "To understand the token usage, you can check `usage_metadata`:"
      ]
    },
    {
      "cell_type": "code",
      "execution_count": null,
      "metadata": {
        "id": "6LAoNQ3Ys-CB"
      },
      "outputs": [],
      "source": [
        "# TODO: print token usage"
      ]
    },
    {
      "cell_type": "markdown",
      "metadata": {
        "id": "9jzrjfNDxUhZ"
      },
      "source": [
        "You can also use `count_tokens` to check the size of your input prompt(s):"
      ]
    },
    {
      "cell_type": "code",
      "execution_count": null,
      "metadata": {
        "id": "EIrVpB-Htc3y"
      },
      "outputs": [],
      "source": [
        "# TODO: use count_tokens"
      ]
    },
    {
      "cell_type": "markdown",
      "metadata": {
        "id": "pE7MEKBI18K0"
      },
      "source": [
        "## !! Exercise: Chat with a book !!\n",
        "\n",
        "Task:\n",
        "- Create a chat\n",
        "- Use a system prompt: `\"You are an expert book reviewer with a witty tone.\"`\n",
        "- Use a temperature of `1.5`\n",
        "- Ask 1 to summarize the book\n",
        "- Ask 1 question to explain more detail about a certain topic from the book\n",
        "- Ask to create a social media post based on the book\n",
        "- Print the total number of tokens used during the chat"
      ]
    },
    {
      "cell_type": "code",
      "execution_count": null,
      "metadata": {
        "id": "sKL0JNbCzY0P"
      },
      "outputs": [],
      "source": [
        "# TODO: complete exercise"
      ]
    },
    {
      "cell_type": "markdown",
      "metadata": {
        "id": "muzBsZi5Fmgs"
      },
      "source": [
        "## Recap & Next steps\n",
        "\n",
        "Nice work! You learned\n",
        "- Python SDK quickstart\n",
        "- Text prompting\n",
        "- Streaming and chats\n",
        "- System prompts and config options\n",
        "- Long context and token counting\n",
        "\n",
        "\n",
        "More helpful resources:\n",
        "- [API docs quickstart](https://ai.google.dev/gemini-api/docs/quickstart?lang=python)\n",
        "- [Text generation docs](https://ai.google.dev/gemini-api/docs/text-generation)\n",
        "- [Long context docs](https://ai.google.dev/gemini-api/docs/long-context)\n",
        "\n",
        "Next steps:\n",
        "- [Part 2: Multimodal understanding (image, video, audio, docs, code)](https://github.com/patrickloeber/workshop-build-with-gemini/blob/main/notebooks/part-2-multimodal-understanding.ipynb)"
      ]
    },
    {
      "cell_type": "markdown",
      "metadata": {
        "id": "DgkLxASUx40k"
      },
      "source": []
    }
  ],
  "metadata": {
    "colab": {
      "provenance": []
    },
    "kernelspec": {
      "display_name": "venv",
      "language": "python",
      "name": "python3"
    },
    "language_info": {
      "codemirror_mode": {
        "name": "ipython",
        "version": 3
      },
      "file_extension": ".py",
      "mimetype": "text/x-python",
      "name": "python",
      "nbconvert_exporter": "python",
      "pygments_lexer": "ipython3",
      "version": "3.13.2"
    }
  },
  "nbformat": 4,
  "nbformat_minor": 0
}